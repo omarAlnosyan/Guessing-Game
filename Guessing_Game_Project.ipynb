{
 "cells": [
  {
   "cell_type": "markdown",
   "id": "5b39793a-e5c2-446a-b2f5-73ad70c558c7",
   "metadata": {},
   "source": [
    "# Guessing Game Project Description\n"
   ]
  },
  {
   "cell_type": "markdown",
   "id": "a8f8d95b-1b12-4aec-b560-455f939a45dd",
   "metadata": {},
   "source": [
    "tep 1: Choose Your Game Level\n",
    "Select a difficulty level that determines the number range and available attempts:\n",
    "\n",
    "1️⃣ Easy\n",
    "\n",
    "Range: [1 - 10]\n",
    "Attempts: 3\n",
    "2️⃣ Intermediate\n",
    "\n",
    "Range: [1 - 100]\n",
    "Attempts: 7\n",
    "3️⃣ Hard\n",
    "\n",
    "Range: [1 - 1000]\n",
    "Attempts: 15\n",
    "Step 2: Game Setup\n",
    "The game randomly selects a secret number within the chosen level's range.\n",
    "You are given a limited number of attempts (n_trials) based on your selected level.\n",
    "Step 3: Start Guessing!\n",
    "Enter your guess:\n",
    "✅ Correct Guess: \"Congratulations! You found the number in {user_trials} attempts.\"\n",
    "❌ Incorrect Guess:\n",
    "If you still have attempts left, you'll get a hint: (Increase 🔼 or Decrease 🔽)\n",
    "If you run out of attempts: \"You Lose! The correct number was {guess}.\"\n",
    "🎯 Can you find the number before you run out of attempts?"
   ]
  },
  {
   "cell_type": "code",
   "execution_count": 7,
   "id": "e046fcb3-1d63-4a69-9b34-95d67282c077",
   "metadata": {},
   "outputs": [],
   "source": [
    "def show_levels():\n",
    "  print(''' Game Levels :\n",
    "  (1) Easy:\n",
    "      * Limits : [1 - 10]\n",
    "      * No. of trials : 3\n",
    "  (2) Intermediate*:\n",
    "      * Limits : [1 - 100]\n",
    "      * No. of trials : 7\n",
    "  (3) Hard :\n",
    "      * Limits : [1 - 1000]\n",
    "      * No. of trials : 15 ''')"
   ]
  },
  {
   "cell_type": "markdown",
   "id": "87bddf90-ac33-457a-b0d6-f8a78e411692",
   "metadata": {},
   "source": [
    "## Ask the user for the game level"
   ]
  },
  {
   "cell_type": "code",
   "execution_count": 9,
   "id": "b15b6e80-72f3-403a-879e-2dd75587c8fe",
   "metadata": {},
   "outputs": [],
   "source": [
    "def game_level_choice():\n",
    "  while True:\n",
    "      game_level = input('Enter the game level :\\n (1) Easy \\t (2) Intermediate \\t (3) Hard \\t')\n",
    "      if game_level in ['1','2','3']:\n",
    "          game_level = int(game_level)\n",
    "          break\n",
    "      else:\n",
    "          print('Invalid Choice! Please choose 1, 2, or 3')\n",
    "          continue\n",
    "  return game_level"
   ]
  },
  {
   "cell_type": "markdown",
   "id": "88dd89da-dfd7-486f-98fc-bf3b60a28582",
   "metadata": {},
   "source": [
    "## Set the game settings according to the game level:\n"
   ]
  },
  {
   "cell_type": "code",
   "execution_count": 11,
   "id": "8dd31061-b279-4908-b2db-2abbfaa892f3",
   "metadata": {},
   "outputs": [],
   "source": [
    "def set_game_settings(game_level):\n",
    "  if game_level == 1:\n",
    "    limits = range(1,11)\n",
    "    n_trials = 3\n",
    "  elif game_level == 2:\n",
    "    limits = range(1,101)\n",
    "    n_trials = 7\n",
    "  else:\n",
    "    limits = range(1,1001)\n",
    "    n_trials = 15\n",
    "  return limits, n_trials"
   ]
  },
  {
   "cell_type": "markdown",
   "id": "ffee834a-1275-424f-b39f-c95ffd0495ca",
   "metadata": {},
   "source": [
    "## Start Playing"
   ]
  },
  {
   "cell_type": "code",
   "execution_count": 13,
   "id": "fd9d4f9e-5246-4746-a7e2-c49632019b98",
   "metadata": {},
   "outputs": [],
   "source": [
    "import random\n",
    "\n",
    "def start_play(limits, n_trials):\n",
    "  hidden = random.choice(limits)\n",
    "  user_trials = 0\n",
    "\n",
    "  while user_trials < n_trials:\n",
    "    guess = int(input('Guess the number :   '))\n",
    "    user_trials +=1\n",
    "\n",
    "    if guess == hidden:\n",
    "      print(f'You got it successfully in {user_trials} trials')\n",
    "      break\n",
    "    else:\n",
    "      if user_trials == n_trials:\n",
    "        print(f\"Unfortunately, You tried {user_trials} trials. No more Trials!\")\n",
    "        print(f'The hidden number is  {hidden}')\n",
    "      elif guess < hidden:\n",
    "        print('No, Increase!')\n",
    "      else:\n",
    "        print('No, Decrease!')\n",
    "    continue\n"
   ]
  },
  {
   "cell_type": "markdown",
   "id": "616c6322-4927-4444-bf59-e70a16746d18",
   "metadata": {},
   "source": [
    "# Play Again ?"
   ]
  },
  {
   "cell_type": "code",
   "execution_count": 15,
   "id": "33106511-6588-4b24-b21f-6512b0f43428",
   "metadata": {},
   "outputs": [],
   "source": [
    "def play_again():\n",
    "    while True:\n",
    "      play_again = input(\"Play again ? [0] No, [1] Yes:   \")\n",
    "      if play_again in ['1','0']:\n",
    "          break\n",
    "      else:\n",
    "          print('Invalid Choice! Please choose 0 or 1   ')\n",
    "    return int(play_again)"
   ]
  },
  {
   "cell_type": "code",
   "execution_count": 16,
   "id": "428b7c22-cb2e-4f37-aee0-f458c293fede",
   "metadata": {},
   "outputs": [
    {
     "name": "stdin",
     "output_type": "stream",
     "text": [
      "Play again ? [0] No, [1] Yes:    1\n"
     ]
    },
    {
     "data": {
      "text/plain": [
       "1"
      ]
     },
     "execution_count": 16,
     "metadata": {},
     "output_type": "execute_result"
    }
   ],
   "source": [
    "play_again()"
   ]
  },
  {
   "cell_type": "markdown",
   "id": "dfdd8d9c-7305-4db0-90c9-84c4b404b7e7",
   "metadata": {},
   "source": [
    "## Let's Play"
   ]
  },
  {
   "cell_type": "code",
   "execution_count": 18,
   "id": "52d84a38-6fe0-45a0-ad9f-7ddaca4055ca",
   "metadata": {},
   "outputs": [],
   "source": [
    "def play():\n",
    "  show_levels()\n",
    "  while True:\n",
    "    game_level = game_level_choice()\n",
    "    limits, n_trials = set_game_settings(game_level)\n",
    "    start_play(limits, n_trials)\n",
    "    if not play_again():\n",
    "        break\n"
   ]
  },
  {
   "cell_type": "code",
   "execution_count": null,
   "id": "ccff7404-7a6d-4a30-9359-42151ba06b3c",
   "metadata": {},
   "outputs": [
    {
     "name": "stdout",
     "output_type": "stream",
     "text": [
      " Game Levels :\n",
      "  (1) Easy:\n",
      "      * Limits : [1 - 10]\n",
      "      * No. of trials : 3\n",
      "  (2) Intermediate*:\n",
      "      * Limits : [1 - 100]\n",
      "      * No. of trials : 7\n",
      "  (3) Hard :\n",
      "      * Limits : [1 - 1000]\n",
      "      * No. of trials : 15 \n"
     ]
    },
    {
     "name": "stdin",
     "output_type": "stream",
     "text": [
      "Enter the game level :\n",
      " (1) Easy \t (2) Intermediate \t (3) Hard \t 1\n",
      "Guess the number :    4\n"
     ]
    },
    {
     "name": "stdout",
     "output_type": "stream",
     "text": [
      "No, Increase!\n"
     ]
    },
    {
     "name": "stdin",
     "output_type": "stream",
     "text": [
      "Guess the number :    6\n"
     ]
    },
    {
     "name": "stdout",
     "output_type": "stream",
     "text": [
      "No, Increase!\n"
     ]
    },
    {
     "name": "stdin",
     "output_type": "stream",
     "text": [
      "Guess the number :    8\n"
     ]
    },
    {
     "name": "stdout",
     "output_type": "stream",
     "text": [
      "You got it successfully in 3 trials\n"
     ]
    }
   ],
   "source": [
    "play()"
   ]
  },
  {
   "cell_type": "code",
   "execution_count": null,
   "id": "fb8f0dee-4875-4593-ad92-48ef2302f795",
   "metadata": {},
   "outputs": [],
   "source": []
  },
  {
   "cell_type": "code",
   "execution_count": null,
   "id": "b954ef64-e4f8-4914-9e20-65613107e69d",
   "metadata": {},
   "outputs": [],
   "source": []
  }
 ],
 "metadata": {
  "kernelspec": {
   "display_name": "Python [conda env:base] *",
   "language": "python",
   "name": "conda-base-py"
  },
  "language_info": {
   "codemirror_mode": {
    "name": "ipython",
    "version": 3
   },
   "file_extension": ".py",
   "mimetype": "text/x-python",
   "name": "python",
   "nbconvert_exporter": "python",
   "pygments_lexer": "ipython3",
   "version": "3.12.7"
  }
 },
 "nbformat": 4,
 "nbformat_minor": 5
}
